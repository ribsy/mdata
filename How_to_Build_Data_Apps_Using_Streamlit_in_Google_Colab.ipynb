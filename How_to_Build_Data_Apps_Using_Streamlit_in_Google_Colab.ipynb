{
  "nbformat": 4,
  "nbformat_minor": 0,
  "metadata": {
    "colab": {
      "provenance": [],
      "include_colab_link": true
    },
    "kernelspec": {
      "name": "python3",
      "display_name": "Python 3"
    },
    "language_info": {
      "name": "python"
    }
  },
  "cells": [
    {
      "cell_type": "markdown",
      "metadata": {
        "id": "view-in-github",
        "colab_type": "text"
      },
      "source": [
        "<a href=\"https://colab.research.google.com/github/ribsy/mdata/blob/main/How_to_Build_Data_Apps_Using_Streamlit_in_Google_Colab.ipynb\" target=\"_parent\"><img src=\"https://colab.research.google.com/assets/colab-badge.svg\" alt=\"Open In Colab\"/></a>"
      ]
    },
    {
      "cell_type": "markdown",
      "source": [
        "## How to Build Data Apps Using Streamlit in Google Colab\n",
        "[▶▶ Link to My Medium Article](ttps://medium.com/@miyoko_shimura/how-to-build-data-apps-using-streamlit-in-google-colab-42633246fa91)\n",
        "##### Author: Miyoko Shimura\n",
        "\n"
      ],
      "metadata": {
        "id": "ot12XL5SMSpZ"
      }
    },
    {
      "cell_type": "code",
      "execution_count": 1,
      "metadata": {
        "id": "CX2tnmGWL_lQ",
        "colab": {
          "base_uri": "https://localhost:8080/"
        },
        "outputId": "c150a603-f158-436a-e76a-c2043929a426"
      },
      "outputs": [
        {
          "output_type": "stream",
          "name": "stdout",
          "text": [
            "\u001b[2K     \u001b[90m━━━━━━━━━━━━━━━━━━━━━━━━━━━━━━━━━━━━━━━━\u001b[0m \u001b[32m44.3/44.3 kB\u001b[0m \u001b[31m954.4 kB/s\u001b[0m eta \u001b[36m0:00:00\u001b[0m\n",
            "\u001b[2K   \u001b[90m━━━━━━━━━━━━━━━━━━━━━━━━━━━━━━━━━━━━━━━━\u001b[0m \u001b[32m9.1/9.1 MB\u001b[0m \u001b[31m26.7 MB/s\u001b[0m eta \u001b[36m0:00:00\u001b[0m\n",
            "\u001b[2K   \u001b[90m━━━━━━━━━━━━━━━━━━━━━━━━━━━━━━━━━━━━━━━━\u001b[0m \u001b[32m6.9/6.9 MB\u001b[0m \u001b[31m26.1 MB/s\u001b[0m eta \u001b[36m0:00:00\u001b[0m\n",
            "\u001b[2K   \u001b[90m━━━━━━━━━━━━━━━━━━━━━━━━━━━━━━━━━━━━━━━━\u001b[0m \u001b[32m79.1/79.1 kB\u001b[0m \u001b[31m3.9 MB/s\u001b[0m eta \u001b[36m0:00:00\u001b[0m\n",
            "\u001b[?25h"
          ]
        }
      ],
      "source": [
        "!pip install -q streamlit"
      ]
    },
    {
      "cell_type": "code",
      "source": [
        "#%%writefile app.py\n",
        "import streamlit as st\n",
        "import pandas as pd\n",
        "import seaborn as sns\n",
        "import matplotlib.pyplot as plt\n",
        "\n",
        "# Load the Iris dataset\n",
        "iris = sns.load_dataset(\"iris\")\n",
        "\n",
        "# Set page title and description\n",
        "st.set_page_config(page_title=\"Iris Dataset Visualization\", page_icon=\":bar_chart:\", layout=\"wide\")\n",
        "st.title(\"Iris Dataset Visualization\")\n",
        "st.write(\"This application visualizes the Iris dataset using Seaborn.\")\n",
        "\n",
        "# Scatter plot\n",
        "st.subheader(\"Scatter Plot\")\n",
        "fig, ax = plt.subplots()\n",
        "sns.scatterplot(data=iris, x=\"sepal_length\", y=\"sepal_width\", hue=\"species\", ax=ax)\n",
        "ax.set_xlabel(\"Sepal Length (cm)\")\n",
        "ax.set_ylabel(\"Sepal Width (cm)\")\n",
        "st.pyplot(fig)\n",
        "\n",
        "# Histogram\n",
        "st.subheader(\"Histogram - Sepal Length\")\n",
        "fig, ax = plt.subplots()\n",
        "sns.histplot(data=iris, x=\"sepal_length\", bins=20, ax=ax)\n",
        "ax.set_xlabel(\"Sepal Length (cm)\")\n",
        "ax.set_ylabel(\"Frequency\")\n",
        "st.pyplot(fig)\n",
        "\n",
        "# Box plot\n",
        "st.subheader(\"Box Plot\")\n",
        "fig, ax = plt.subplots()\n",
        "sns.boxplot(data=iris, x=\"species\", y=\"petal_length\", ax=ax)\n",
        "ax.set_xlabel(\"Species\")\n",
        "ax.set_ylabel(\"Petal Length (cm)\")\n",
        "st.pyplot(fig)\n",
        "\n",
        "# Display dataset\n",
        "st.subheader(\"Dataset\")\n",
        "st.write(iris)\n",
        "\n",
        "# Acknowledgements\n",
        "st.subheader(\"Acknowledgements\")\n",
        "st.write(\"Built with [Streamlit](https://streamlit.io). Iris dataset from [Fisher's 1936 paper](https://archive.ics.uci.edu/ml/datasets/iris).\")"
      ],
      "metadata": {
        "id": "U7Wq4DWoMDyS",
        "colab": {
          "base_uri": "https://localhost:8080/"
        },
        "outputId": "893d2512-1222-4d14-f7bd-fe5ca9c33f2f"
      },
      "execution_count": 2,
      "outputs": [
        {
          "output_type": "stream",
          "name": "stdout",
          "text": [
            "Writing app.py\n"
          ]
        }
      ]
    },
    {
      "cell_type": "code",
      "source": [
        "!npm install localtunnel"
      ],
      "metadata": {
        "id": "cK9ytWv0MIzH",
        "colab": {
          "base_uri": "https://localhost:8080/"
        },
        "outputId": "a7cd381f-b447-4c90-8af4-cf06d90f91fd"
      },
      "execution_count": 3,
      "outputs": [
        {
          "output_type": "stream",
          "name": "stdout",
          "text": [
            "\u001b[1G\u001b[0K⠙\u001b[1G\u001b[0K⠹\u001b[1G\u001b[0K⠸\u001b[1G\u001b[0K⠼\u001b[1G\u001b[0K⠴\u001b[1G\u001b[0K⠦\u001b[1G\u001b[0K⠧\u001b[1G\u001b[0K⠇\u001b[1G\u001b[0K⠏\u001b[1G\u001b[0K⠋\u001b[1G\u001b[0K⠙\u001b[1G\u001b[0K⠹\u001b[1G\u001b[0K⠸\u001b[1G\u001b[0K⠼\u001b[1G\u001b[0K⠴\u001b[1G\u001b[0K⠦\u001b[1G\u001b[0K⠧\u001b[1G\u001b[0K⠇\u001b[1G\u001b[0K⠏\u001b[1G\u001b[0K⠋\u001b[1G\u001b[0K⠙\u001b[1G\u001b[0K⠹\u001b[1G\u001b[0K⠸\u001b[1G\u001b[0K⠼\u001b[1G\u001b[0K⠴\u001b[1G\u001b[0K⠦\u001b[1G\u001b[0K⠧\u001b[1G\u001b[0K\n",
            "added 22 packages in 3s\n",
            "\u001b[1G\u001b[0K⠧\u001b[1G\u001b[0K\n",
            "\u001b[1G\u001b[0K⠧\u001b[1G\u001b[0K3 packages are looking for funding\n",
            "\u001b[1G\u001b[0K⠧\u001b[1G\u001b[0K  run `npm fund` for details\n",
            "\u001b[1G\u001b[0K⠧\u001b[1G\u001b[0K"
          ]
        }
      ]
    },
    {
      "cell_type": "code",
      "source": [
        "!streamlit run app.py &>/content/logs.txt & npx localtunnel --port 8501 & curl ipv4.icanhazip.com"
      ],
      "metadata": {
        "id": "EwTvok4FMMo6",
        "colab": {
          "base_uri": "https://localhost:8080/"
        },
        "outputId": "26c70ff1-9e05-46f5-c123-8ec0c2e2a76d"
      },
      "execution_count": 4,
      "outputs": [
        {
          "output_type": "stream",
          "name": "stdout",
          "text": [
            "35.231.11.103\n",
            "\u001b[1G\u001b[0K⠙\u001b[1G\u001b[0Kyour url is: https://chatty-walls-stop.loca.lt\n"
          ]
        }
      ]
    }
  ]
}